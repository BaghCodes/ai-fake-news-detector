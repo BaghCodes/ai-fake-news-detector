{
 "cells": [
  {
   "cell_type": "code",
   "execution_count": 1,
   "id": "8a7288c9-582a-4035-b4b5-5ac8cbedc08c",
   "metadata": {},
   "outputs": [],
   "source": [
    "import pandas as pd\n",
    "import os"
   ]
  },
  {
   "cell_type": "code",
   "execution_count": 2,
   "id": "64ea0bbd-25a1-4cd9-832e-cfc8cd5df75e",
   "metadata": {},
   "outputs": [],
   "source": [
    "def get_base_path():\n",
    "    try:\n",
    "        current_path = os.path.dirname(os.path.abspath(__file__))\n",
    "    except NameError:\n",
    "        current_path = os.getcwd()\n",
    "    \n",
    "    parent_path = os.path.dirname(current_path)\n",
    "    \n",
    "    return parent_path"
   ]
  },
  {
   "cell_type": "code",
   "execution_count": 3,
   "id": "8082d36b-b9d5-4c16-b061-66530dabf61c",
   "metadata": {},
   "outputs": [
    {
     "name": "stdout",
     "output_type": "stream",
     "text": [
      "Base path: C:\\Users\\KIIT\\Documents\\WORKSPACE\\development\\ML\\ai-fake-news-detector\n",
      "Fake path: C:\\Users\\KIIT\\Documents\\WORKSPACE\\development\\ML\\ai-fake-news-detector\\data\\raw\\politifact_fake.csv\n",
      "Real path: C:\\Users\\KIIT\\Documents\\WORKSPACE\\development\\ML\\ai-fake-news-detector\\data\\raw\\politifact_real.csv\n"
     ]
    }
   ],
   "source": [
    "base_path = get_base_path()\n",
    "fake_path = os.path.join(base_path, 'data', 'raw', 'politifact_fake.csv')\n",
    "real_path = os.path.join(base_path, 'data', 'raw', 'politifact_real.csv')\n",
    "print(f\"Base path: {base_path}\")\n",
    "print(f\"Fake path: {fake_path}\")\n",
    "print(f\"Real path: {real_path}\")"
   ]
  },
  {
   "cell_type": "code",
   "execution_count": 4,
   "id": "31d13e3d-937b-485d-946a-ce66c63668b7",
   "metadata": {},
   "outputs": [],
   "source": [
    "df_fake = pd.read_csv(fake_path)\n",
    "df_real = pd.read_csv(real_path)\n",
    "df_fake[\"label\"] = 0\n",
    "df_real[\"label\"] = 1\n",
    "#to merge df_real and df_fake\n",
    "df = pd.concat([df_fake, df_real], ignore_index=True)\n",
    "#shuffling dataset so that results are mixed.\n",
    "df = df.sample(frac=1, random_state=42).reset_index(drop=True)"
   ]
  },
  {
   "cell_type": "code",
   "execution_count": 5,
   "id": "ddb94ace-01ed-4f95-ab68-a3a67effb24c",
   "metadata": {},
   "outputs": [
    {
     "data": {
      "text/html": [
       "<div>\n",
       "<style scoped>\n",
       "    .dataframe tbody tr th:only-of-type {\n",
       "        vertical-align: middle;\n",
       "    }\n",
       "\n",
       "    .dataframe tbody tr th {\n",
       "        vertical-align: top;\n",
       "    }\n",
       "\n",
       "    .dataframe thead th {\n",
       "        text-align: right;\n",
       "    }\n",
       "</style>\n",
       "<table border=\"1\" class=\"dataframe\">\n",
       "  <thead>\n",
       "    <tr style=\"text-align: right;\">\n",
       "      <th></th>\n",
       "      <th>id</th>\n",
       "      <th>news_url</th>\n",
       "      <th>title</th>\n",
       "      <th>tweet_ids</th>\n",
       "      <th>label</th>\n",
       "    </tr>\n",
       "  </thead>\n",
       "  <tbody>\n",
       "    <tr>\n",
       "      <th>0</th>\n",
       "      <td>politifact14885</td>\n",
       "      <td>www.breakingnews247.net/59bc13819a723/world-s-...</td>\n",
       "      <td>World's most popular candy to be removed from ...</td>\n",
       "      <td>908193166632812545\\t908318679821160450\\t908327...</td>\n",
       "      <td>0</td>\n",
       "    </tr>\n",
       "    <tr>\n",
       "      <th>1</th>\n",
       "      <td>politifact1106</td>\n",
       "      <td>http://frwebgate.access.gpo.gov/cgi-bin/getdoc...</td>\n",
       "      <td>Browse Congressional Bills</td>\n",
       "      <td>2761266599\\t3283658037\\t3439787429\\t5180526172...</td>\n",
       "      <td>1</td>\n",
       "    </tr>\n",
       "    <tr>\n",
       "      <th>2</th>\n",
       "      <td>politifact1678</td>\n",
       "      <td>http://abcnews.go.com/ThisWeek/video/supreme-c...</td>\n",
       "      <td>Supreme Court Vacancy Video</td>\n",
       "      <td>NaN</td>\n",
       "      <td>1</td>\n",
       "    </tr>\n",
       "    <tr>\n",
       "      <th>3</th>\n",
       "      <td>politifact370</td>\n",
       "      <td>http://tonto.eia.doe.gov/dnav/pet/pet_move_wkl...</td>\n",
       "      <td>U.S. Imports &amp; Exports</td>\n",
       "      <td>735229171086065664\\t735591660080488449\\t736678...</td>\n",
       "      <td>1</td>\n",
       "    </tr>\n",
       "    <tr>\n",
       "      <th>4</th>\n",
       "      <td>politifact15263</td>\n",
       "      <td>http://sciencevibe.com/2018/04/11/dying-78-yea...</td>\n",
       "      <td>Dying 78 Year Old CIA Agent Admits To Killing ...</td>\n",
       "      <td>588772842071666688\\t588795790774140929\\t588796...</td>\n",
       "      <td>0</td>\n",
       "    </tr>\n",
       "  </tbody>\n",
       "</table>\n",
       "</div>"
      ],
      "text/plain": [
       "                id                                           news_url  \\\n",
       "0  politifact14885  www.breakingnews247.net/59bc13819a723/world-s-...   \n",
       "1   politifact1106  http://frwebgate.access.gpo.gov/cgi-bin/getdoc...   \n",
       "2   politifact1678  http://abcnews.go.com/ThisWeek/video/supreme-c...   \n",
       "3    politifact370  http://tonto.eia.doe.gov/dnav/pet/pet_move_wkl...   \n",
       "4  politifact15263  http://sciencevibe.com/2018/04/11/dying-78-yea...   \n",
       "\n",
       "                                               title  \\\n",
       "0  World's most popular candy to be removed from ...   \n",
       "1                         Browse Congressional Bills   \n",
       "2                        Supreme Court Vacancy Video   \n",
       "3                             U.S. Imports & Exports   \n",
       "4  Dying 78 Year Old CIA Agent Admits To Killing ...   \n",
       "\n",
       "                                           tweet_ids  label  \n",
       "0  908193166632812545\\t908318679821160450\\t908327...      0  \n",
       "1  2761266599\\t3283658037\\t3439787429\\t5180526172...      1  \n",
       "2                                                NaN      1  \n",
       "3  735229171086065664\\t735591660080488449\\t736678...      1  \n",
       "4  588772842071666688\\t588795790774140929\\t588796...      0  "
      ]
     },
     "execution_count": 5,
     "metadata": {},
     "output_type": "execute_result"
    }
   ],
   "source": [
    "df.head()"
   ]
  },
  {
   "cell_type": "code",
   "execution_count": 6,
   "id": "55143d90-00cd-4d7b-8afd-6af03e10aaa8",
   "metadata": {},
   "outputs": [
    {
     "name": "stdout",
     "output_type": "stream",
     "text": [
      "<class 'pandas.core.frame.DataFrame'>\n",
      "RangeIndex: 1056 entries, 0 to 1055\n",
      "Data columns (total 5 columns):\n",
      " #   Column     Non-Null Count  Dtype \n",
      "---  ------     --------------  ----- \n",
      " 0   id         1056 non-null   object\n",
      " 1   news_url   995 non-null    object\n",
      " 2   title      1056 non-null   object\n",
      " 3   tweet_ids  801 non-null    object\n",
      " 4   label      1056 non-null   int64 \n",
      "dtypes: int64(1), object(4)\n",
      "memory usage: 41.4+ KB\n"
     ]
    }
   ],
   "source": [
    "df.info()"
   ]
  },
  {
   "cell_type": "code",
   "execution_count": 7,
   "id": "062be756-549d-4326-bcfb-df4e97c69d7d",
   "metadata": {},
   "outputs": [
    {
     "name": "stdout",
     "output_type": "stream",
     "text": [
      "Fake news: 432\n",
      "Real news: 624\n"
     ]
    }
   ],
   "source": [
    "print(\"Fake news:\", len(df[df['label'] == 0]))\n",
    "print(\"Real news:\", len(df[df['label'] == 1]))"
   ]
  },
  {
   "cell_type": "code",
   "execution_count": 8,
   "id": "99451c4c-7050-4516-9b35-11f32a8dd8ee",
   "metadata": {},
   "outputs": [
    {
     "name": "stdout",
     "output_type": "stream",
     "text": [
      "Null values per column:\n",
      "id             0\n",
      "news_url      61\n",
      "title          0\n",
      "tweet_ids    255\n",
      "label          0\n",
      "dtype: int64\n"
     ]
    }
   ],
   "source": [
    "print(\"Null values per column:\")\n",
    "print(df.isnull().sum())"
   ]
  },
  {
   "cell_type": "code",
   "execution_count": 9,
   "id": "7535e671-bbe8-4abd-96fc-27c0563f7bb8",
   "metadata": {},
   "outputs": [],
   "source": [
    "#remove null \n",
    "df = df.dropna(subset=['news_url'])"
   ]
  },
  {
   "cell_type": "code",
   "execution_count": 10,
   "id": "e26d3e60-2eea-468f-bb82-dcb4a5884837",
   "metadata": {},
   "outputs": [
    {
     "name": "stdout",
     "output_type": "stream",
     "text": [
      "<class 'pandas.core.frame.DataFrame'>\n",
      "Index: 995 entries, 0 to 1055\n",
      "Data columns (total 5 columns):\n",
      " #   Column     Non-Null Count  Dtype \n",
      "---  ------     --------------  ----- \n",
      " 0   id         995 non-null    object\n",
      " 1   news_url   995 non-null    object\n",
      " 2   title      995 non-null    object\n",
      " 3   tweet_ids  762 non-null    object\n",
      " 4   label      995 non-null    int64 \n",
      "dtypes: int64(1), object(4)\n",
      "memory usage: 46.6+ KB\n"
     ]
    }
   ],
   "source": [
    "df.info()"
   ]
  },
  {
   "cell_type": "code",
   "execution_count": 11,
   "id": "3ec7c3ff-08ca-4217-ba28-cfc059c511e0",
   "metadata": {},
   "outputs": [
    {
     "name": "stdout",
     "output_type": "stream",
     "text": [
      "C:\\Users\\KIIT\\Documents\\WORKSPACE\\development\\ML\\ai-fake-news-detector\\data\\processed\n",
      "Directory already exists: C:\\Users\\KIIT\\Documents\\WORKSPACE\\development\\ML\\ai-fake-news-detector\\data\\processed\n",
      "Saved merged dataset to: C:\\Users\\KIIT\\Documents\\WORKSPACE\\development\\ML\\ai-fake-news-detector\\data\\processed\\combined_politifact.csv\n"
     ]
    }
   ],
   "source": [
    "# Define processed directory path\n",
    "processed_dir = os.path.join(base_path, 'data', 'processed')\n",
    "print(processed_dir)\n",
    "# Create processed directory using if-else\n",
    "if os.path.exists(processed_dir):\n",
    "    print(f\"Directory already exists: {processed_dir}\")\n",
    "else:\n",
    "    os.makedirs(processed_dir)\n",
    "    print(f\"Created new directory: {processed_dir}\")\n",
    "# Save to CSV\n",
    "output_path = os.path.join(processed_dir, 'combined_politifact.csv')\n",
    "df.to_csv(output_path, index=False)\n",
    "print(f\"Saved merged dataset to: {output_path}\")"
   ]
  },
  {
   "cell_type": "code",
   "execution_count": 12,
   "id": "90c6de5f-de7a-495e-bc91-bebc6ed26d60",
   "metadata": {},
   "outputs": [],
   "source": [
    "df = pd.read_csv(output_path)"
   ]
  },
  {
   "cell_type": "code",
   "execution_count": 13,
   "id": "6e9ad9f3-55f1-4f4d-91e6-b5065e8a2fb2",
   "metadata": {},
   "outputs": [
    {
     "data": {
      "text/html": [
       "<div>\n",
       "<style scoped>\n",
       "    .dataframe tbody tr th:only-of-type {\n",
       "        vertical-align: middle;\n",
       "    }\n",
       "\n",
       "    .dataframe tbody tr th {\n",
       "        vertical-align: top;\n",
       "    }\n",
       "\n",
       "    .dataframe thead th {\n",
       "        text-align: right;\n",
       "    }\n",
       "</style>\n",
       "<table border=\"1\" class=\"dataframe\">\n",
       "  <thead>\n",
       "    <tr style=\"text-align: right;\">\n",
       "      <th></th>\n",
       "      <th>id</th>\n",
       "      <th>news_url</th>\n",
       "      <th>title</th>\n",
       "      <th>tweet_ids</th>\n",
       "      <th>label</th>\n",
       "    </tr>\n",
       "  </thead>\n",
       "  <tbody>\n",
       "    <tr>\n",
       "      <th>0</th>\n",
       "      <td>politifact14885</td>\n",
       "      <td>www.breakingnews247.net/59bc13819a723/world-s-...</td>\n",
       "      <td>World's most popular candy to be removed from ...</td>\n",
       "      <td>908193166632812545\\t908318679821160450\\t908327...</td>\n",
       "      <td>0</td>\n",
       "    </tr>\n",
       "    <tr>\n",
       "      <th>1</th>\n",
       "      <td>politifact1106</td>\n",
       "      <td>http://frwebgate.access.gpo.gov/cgi-bin/getdoc...</td>\n",
       "      <td>Browse Congressional Bills</td>\n",
       "      <td>2761266599\\t3283658037\\t3439787429\\t5180526172...</td>\n",
       "      <td>1</td>\n",
       "    </tr>\n",
       "    <tr>\n",
       "      <th>2</th>\n",
       "      <td>politifact1678</td>\n",
       "      <td>http://abcnews.go.com/ThisWeek/video/supreme-c...</td>\n",
       "      <td>Supreme Court Vacancy Video</td>\n",
       "      <td>NaN</td>\n",
       "      <td>1</td>\n",
       "    </tr>\n",
       "    <tr>\n",
       "      <th>3</th>\n",
       "      <td>politifact370</td>\n",
       "      <td>http://tonto.eia.doe.gov/dnav/pet/pet_move_wkl...</td>\n",
       "      <td>U.S. Imports &amp; Exports</td>\n",
       "      <td>735229171086065664\\t735591660080488449\\t736678...</td>\n",
       "      <td>1</td>\n",
       "    </tr>\n",
       "    <tr>\n",
       "      <th>4</th>\n",
       "      <td>politifact15263</td>\n",
       "      <td>http://sciencevibe.com/2018/04/11/dying-78-yea...</td>\n",
       "      <td>Dying 78 Year Old CIA Agent Admits To Killing ...</td>\n",
       "      <td>588772842071666688\\t588795790774140929\\t588796...</td>\n",
       "      <td>0</td>\n",
       "    </tr>\n",
       "  </tbody>\n",
       "</table>\n",
       "</div>"
      ],
      "text/plain": [
       "                id                                           news_url  \\\n",
       "0  politifact14885  www.breakingnews247.net/59bc13819a723/world-s-...   \n",
       "1   politifact1106  http://frwebgate.access.gpo.gov/cgi-bin/getdoc...   \n",
       "2   politifact1678  http://abcnews.go.com/ThisWeek/video/supreme-c...   \n",
       "3    politifact370  http://tonto.eia.doe.gov/dnav/pet/pet_move_wkl...   \n",
       "4  politifact15263  http://sciencevibe.com/2018/04/11/dying-78-yea...   \n",
       "\n",
       "                                               title  \\\n",
       "0  World's most popular candy to be removed from ...   \n",
       "1                         Browse Congressional Bills   \n",
       "2                        Supreme Court Vacancy Video   \n",
       "3                             U.S. Imports & Exports   \n",
       "4  Dying 78 Year Old CIA Agent Admits To Killing ...   \n",
       "\n",
       "                                           tweet_ids  label  \n",
       "0  908193166632812545\\t908318679821160450\\t908327...      0  \n",
       "1  2761266599\\t3283658037\\t3439787429\\t5180526172...      1  \n",
       "2                                                NaN      1  \n",
       "3  735229171086065664\\t735591660080488449\\t736678...      1  \n",
       "4  588772842071666688\\t588795790774140929\\t588796...      0  "
      ]
     },
     "execution_count": 13,
     "metadata": {},
     "output_type": "execute_result"
    }
   ],
   "source": [
    "df.head()"
   ]
  },
  {
   "cell_type": "markdown",
   "id": "f84c8c6a-0820-479a-baaa-a9020167af1a",
   "metadata": {},
   "source": [
    "## adding missing protocol to links missing http:// or https://"
   ]
  },
  {
   "cell_type": "code",
   "execution_count": 14,
   "id": "282c8041-4b62-4519-867e-527f9ef6c07e",
   "metadata": {},
   "outputs": [],
   "source": [
    "df['news_url'] = df['news_url'].apply(lambda url: url if url.startswith(('http://', 'https://')) else 'http://' + url)"
   ]
  },
  {
   "cell_type": "code",
   "execution_count": 15,
   "id": "a6c52457-8e86-4457-bd2a-ee00a6eb66d7",
   "metadata": {
    "scrolled": true
   },
   "outputs": [
    {
     "name": "stdout",
     "output_type": "stream",
     "text": [
      "0      http://www.breakingnews247.net/59bc13819a723/w...\n",
      "1      http://frwebgate.access.gpo.gov/cgi-bin/getdoc...\n",
      "2      http://abcnews.go.com/ThisWeek/video/supreme-c...\n",
      "3      http://tonto.eia.doe.gov/dnav/pet/pet_move_wkl...\n",
      "4      http://sciencevibe.com/2018/04/11/dying-78-yea...\n",
      "                             ...                        \n",
      "990    http://breaking13news.com/malia-obama-arrested...\n",
      "991                              http://www.bls.gov/ces/\n",
      "992    https://web.archive.org/web/20180109225217/htt...\n",
      "993    http://www.cq.com/doc/newsmakertranscripts-395...\n",
      "994    https://web.archive.org/web/20080911193042/htt...\n",
      "Name: news_url, Length: 995, dtype: object\n"
     ]
    }
   ],
   "source": [
    "print(df['news_url'])"
   ]
  },
  {
   "cell_type": "code",
   "execution_count": 16,
   "id": "f3a40b16-e16f-4cb7-9a12-3d9667c661c0",
   "metadata": {},
   "outputs": [
    {
     "name": "stdout",
     "output_type": "stream",
     "text": [
      "Number of duplicate news_url entries: 28\n"
     ]
    }
   ],
   "source": [
    "num_duplicates = df.duplicated(subset='news_url').sum()\n",
    "print(f\"Number of duplicate news_url entries: {num_duplicates}\")"
   ]
  },
  {
   "cell_type": "code",
   "execution_count": 17,
   "id": "2351da67-2c51-4eb1-abac-d2db1e023b76",
   "metadata": {},
   "outputs": [],
   "source": [
    "#Remove leading/trailing whitespace from URLs\n",
    "df['news_url'] = df['news_url'].str.strip()"
   ]
  },
  {
   "cell_type": "code",
   "execution_count": 18,
   "id": "9935d22d-37ec-4b17-a571-5b01860b1409",
   "metadata": {},
   "outputs": [
    {
     "name": "stdout",
     "output_type": "stream",
     "text": [
      "Number of duplicate URLs: 28\n",
      "Total rows: 995\n"
     ]
    }
   ],
   "source": [
    "# Count total duplicate URLs (excluding the first occurrence)\n",
    "duplicate_count = df.duplicated(subset='news_url').sum()\n",
    "total_rows = len(df)\n",
    "print(f\"Number of duplicate URLs: {duplicate_count}\")\n",
    "print(f\"Total rows: {total_rows}\")"
   ]
  },
  {
   "cell_type": "code",
   "execution_count": 19,
   "id": "d573811e-6b66-4103-aaab-4e9ade02440f",
   "metadata": {},
   "outputs": [
    {
     "name": "stdout",
     "output_type": "stream",
     "text": [
      "New dataset size after removing duplicates: 967\n"
     ]
    }
   ],
   "source": [
    "#Drop the duplicates\n",
    "df = df.drop_duplicates(subset='news_url', keep='first')\n",
    "print(f\"New dataset size after removing duplicates: {len(df)}\")"
   ]
  },
  {
   "cell_type": "code",
   "execution_count": 20,
   "id": "8732b1a1-5646-4269-b17b-edd5a4153779",
   "metadata": {},
   "outputs": [],
   "source": [
    "import requests\n",
    "# Define headers to mimic a real browser and avoid 403 Forbidden errors\n",
    "HEADERS = {\n",
    "    \"User-Agent\": \"Mozilla/5.0 (Windows NT 10.0; Win64; x64)\"\n",
    "}\n",
    "\n",
    "# Function to check if URL is reachable\n",
    "def is_url_reachable(url, timeout=5):\n",
    "    try:\n",
    "        response = requests.get(url, headers=HEADERS, timeout=timeout, allow_redirects=True)\n",
    "        if response.status_code == 200:\n",
    "            return \"OK\"\n",
    "        elif 300 <= response.status_code < 400:\n",
    "            return \"REDIRECT\"\n",
    "        elif response.status_code == 403:\n",
    "            return \"FORBIDDEN\"\n",
    "        elif response.status_code == 404:\n",
    "            return \"NOT_FOUND\"\n",
    "        else:\n",
    "            return f\"ERROR_{response.status_code}\"\n",
    "    except requests.exceptions.SSLError:\n",
    "        return \"SSL_ERROR\"\n",
    "    except requests.exceptions.Timeout:\n",
    "        return \"TIMEOUT\"\n",
    "    except requests.exceptions.ConnectionError:\n",
    "        return \"CONNECTION_ERROR\"\n",
    "    except Exception as e:\n",
    "        return f\"ERROR_{type(e).__name__}\""
   ]
  },
  {
   "cell_type": "code",
   "execution_count": 21,
   "id": "eb058515-0a9c-4f53-9af9-4a824be8f854",
   "metadata": {},
   "outputs": [],
   "source": [
    "from tqdm import tqdm\n",
    "# enables progress_apply for Pandas\n",
    "tqdm.pandas()  "
   ]
  },
  {
   "cell_type": "code",
   "execution_count": 26,
   "id": "351fcbd3-2d0f-4fc2-b398-b5afc5dad9e5",
   "metadata": {},
   "outputs": [
    {
     "name": "stderr",
     "output_type": "stream",
     "text": [
      "100%|████████████████████████████████████████████████████████████████████████████████| 967/967 [27:15<00:00,  1.69s/it]\n"
     ]
    }
   ],
   "source": [
    "# Apply the check to each row in news_url column (May take time, please have a cup of tea.)\n",
    "df['url_status'] = df['news_url'].progress_apply(lambda url: is_url_reachable(url))"
   ]
  },
  {
   "cell_type": "code",
   "execution_count": 27,
   "id": "6ce30998-4c93-4de1-8cae-aff9ec5228a4",
   "metadata": {},
   "outputs": [
    {
     "name": "stdout",
     "output_type": "stream",
     "text": [
      "Validated URLs path: C:\\Users\\KIIT\\Documents\\WORKSPACE\\development\\ML\\ai-fake-news-detector\\data\\processed\\validated_urls.csv\n",
      "Reachable URLs path: C:\\Users\\KIIT\\Documents\\WORKSPACE\\development\\ML\\ai-fake-news-detector\\data\\processed\\reachable_urls.csv\n"
     ]
    }
   ],
   "source": [
    "validated_urls_path = os.path.join(base_path, 'data', 'processed', 'validated_urls.csv')\n",
    "reachable_urls_path = os.path.join(base_path, 'data', 'processed', 'reachable_urls.csv')\n",
    "print(f\"Validated URLs path: {validated_urls_path}\")\n",
    "print(f\"Reachable URLs path: {reachable_urls_path}\")"
   ]
  },
  {
   "cell_type": "code",
   "execution_count": 28,
   "id": "934f9801-0e6c-4e92-8267-0c84769727dc",
   "metadata": {},
   "outputs": [
    {
     "name": "stdout",
     "output_type": "stream",
     "text": [
      "Saved 967 total URLs to validated_urls.csv\n",
      "Saved 611 reachable URLs to reachable_urls.csv\n"
     ]
    }
   ],
   "source": [
    "df.to_csv(validated_urls_path, index=False)\n",
    "\n",
    "# Filter valid links and save\n",
    "df_valid = df[df['url_status'] == \"OK\"]\n",
    "df_valid.to_csv(reachable_urls_path, index=False)\n",
    "\n",
    "print(f\"Saved {len(df)} total URLs to validated_urls.csv\")\n",
    "print(f\"Saved {len(df_valid)} reachable URLs to reachable_urls.csv\")"
   ]
  },
  {
   "cell_type": "code",
   "execution_count": 29,
   "id": "263f44f5-fc5f-4a63-ac22-06754d47579c",
   "metadata": {},
   "outputs": [
    {
     "name": "stdout",
     "output_type": "stream",
     "text": [
      "Total URLs: 967\n",
      "Reachable URLs: 611\n"
     ]
    }
   ],
   "source": [
    "# Print summary\n",
    "print(f\"Total URLs: {len(df)}\")\n",
    "print(f\"Reachable URLs: {len(df_valid)}\")"
   ]
  },
  {
   "cell_type": "code",
   "execution_count": null,
   "id": "927acd4f-2491-47d2-86c9-95fe07b76300",
   "metadata": {},
   "outputs": [],
   "source": []
  }
 ],
 "metadata": {
  "kernelspec": {
   "display_name": "Python 3 (ipykernel)",
   "language": "python",
   "name": "python3"
  },
  "language_info": {
   "codemirror_mode": {
    "name": "ipython",
    "version": 3
   },
   "file_extension": ".py",
   "mimetype": "text/x-python",
   "name": "python",
   "nbconvert_exporter": "python",
   "pygments_lexer": "ipython3",
   "version": "3.12.7"
  }
 },
 "nbformat": 4,
 "nbformat_minor": 5
}
